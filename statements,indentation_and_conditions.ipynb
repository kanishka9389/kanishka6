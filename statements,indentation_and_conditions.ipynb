{
  "nbformat": 4,
  "nbformat_minor": 0,
  "metadata": {
    "colab": {
      "provenance": []
    },
    "kernelspec": {
      "name": "python3",
      "display_name": "Python 3"
    },
    "language_info": {
      "name": "python"
    }
  },
  "cells": [
    {
      "cell_type": "code",
      "execution_count": 1,
      "metadata": {
        "colab": {
          "base_uri": "https://localhost:8080/"
        },
        "id": "GgiDF-aH2ySV",
        "outputId": "54ad173b-6da4-4c82-ab77-c85bcc1d89d1"
      },
      "outputs": [
        {
          "output_type": "stream",
          "name": "stdout",
          "text": [
            "2\n",
            "21\n"
          ]
        }
      ],
      "source": [
        "# Assignment statement\n",
        "x=3\n",
        "print(1+1)\n",
        "print(len(\"Hello Team AlmaBetter\"))"
      ]
    },
    {
      "cell_type": "code",
      "source": [
        "y = 3.14\n",
        "y"
      ],
      "metadata": {
        "colab": {
          "base_uri": "https://localhost:8080/"
        },
        "id": "MHn600kk372R",
        "outputId": "6c71f8a0-195c-4249-8d2b-596cf4ad845e"
      },
      "execution_count": 2,
      "outputs": [
        {
          "output_type": "execute_result",
          "data": {
            "text/plain": [
              "3.14"
            ]
          },
          "metadata": {},
          "execution_count": 2
        }
      ]
    },
    {
      "cell_type": "code",
      "source": [
        "a='Mighty'\n",
        "# b = a == True\n",
        "a=='Mighty'"
      ],
      "metadata": {
        "colab": {
          "base_uri": "https://localhost:8080/"
        },
        "id": "vJLPFjrX4E94",
        "outputId": "3a853b6c-9550-47f4-b38d-132f92a346f4"
      },
      "execution_count": 4,
      "outputs": [
        {
          "output_type": "execute_result",
          "data": {
            "text/plain": [
              "True"
            ]
          },
          "metadata": {},
          "execution_count": 4
        }
      ]
    },
    {
      "cell_type": "code",
      "source": [
        "# Import statement\n",
        "import pandas as pd\n",
        "print(y)"
      ],
      "metadata": {
        "colab": {
          "base_uri": "https://localhost:8080/"
        },
        "id": "U_weA7DA4gAK",
        "outputId": "c18f34e7-5482-40ac-b591-7bd9ba6a517d"
      },
      "execution_count": 5,
      "outputs": [
        {
          "output_type": "stream",
          "name": "stdout",
          "text": [
            "3.14\n"
          ]
        }
      ]
    },
    {
      "cell_type": "code",
      "source": [
        "y"
      ],
      "metadata": {
        "colab": {
          "base_uri": "https://localhost:8080/"
        },
        "id": "df5mVV_-4w_O",
        "outputId": "ba02b782-d5fb-405d-a0fd-ba42aade82ce"
      },
      "execution_count": 6,
      "outputs": [
        {
          "output_type": "execute_result",
          "data": {
            "text/plain": [
              "3.14"
            ]
          },
          "metadata": {},
          "execution_count": 6
        }
      ]
    },
    {
      "cell_type": "code",
      "source": [
        "x=1\n",
        "y=2\n",
        "z=3\n",
        "y"
      ],
      "metadata": {
        "colab": {
          "base_uri": "https://localhost:8080/"
        },
        "id": "NSUL1qrj40Xy",
        "outputId": "6e77ed59-bd0d-4af8-943c-f851194d3f9b"
      },
      "execution_count": 7,
      "outputs": [
        {
          "output_type": "execute_result",
          "data": {
            "text/plain": [
              "2"
            ]
          },
          "metadata": {},
          "execution_count": 7
        }
      ]
    },
    {
      "cell_type": "code",
      "source": [
        "a=1+2+3+4+5+6+7+8+9+10\n",
        "a"
      ],
      "metadata": {
        "colab": {
          "base_uri": "https://localhost:8080/"
        },
        "id": "HWKwzaKr4_JM",
        "outputId": "6450941e-f8c4-43d5-b281-dfa8a793384e"
      },
      "execution_count": 8,
      "outputs": [
        {
          "output_type": "execute_result",
          "data": {
            "text/plain": [
              "55"
            ]
          },
          "metadata": {},
          "execution_count": 8
        }
      ]
    },
    {
      "cell_type": "code",
      "source": [
        "my_list = [1]\n",
        "my_tuple = (1,)\n",
        "my_list, my_tuple"
      ],
      "metadata": {
        "colab": {
          "base_uri": "https://localhost:8080/"
        },
        "id": "k0DAsKjb5HN4",
        "outputId": "d5ed0250-91c2-4847-ae84-0947044c714e"
      },
      "execution_count": 9,
      "outputs": [
        {
          "output_type": "execute_result",
          "data": {
            "text/plain": [
              "([1], (1,))"
            ]
          },
          "metadata": {},
          "execution_count": 9
        }
      ]
    },
    {
      "cell_type": "code",
      "source": [
        "a=(1+2+3+4+5+6+7+8+9+10,)\n",
        "a"
      ],
      "metadata": {
        "colab": {
          "base_uri": "https://localhost:8080/"
        },
        "id": "23_Havky5ZI1",
        "outputId": "ed4c42fb-8274-445a-f915-47e7bcb63b02"
      },
      "execution_count": 10,
      "outputs": [
        {
          "output_type": "execute_result",
          "data": {
            "text/plain": [
              "(55,)"
            ]
          },
          "metadata": {},
          "execution_count": 10
        }
      ]
    },
    {
      "cell_type": "code",
      "source": [
        "type(a)"
      ],
      "metadata": {
        "colab": {
          "base_uri": "https://localhost:8080/"
        },
        "id": "5XX8unDb5ggN",
        "outputId": "932658cb-4392-4ae7-9a0b-8d4e87f96a88"
      },
      "execution_count": 11,
      "outputs": [
        {
          "output_type": "execute_result",
          "data": {
            "text/plain": [
              "tuple"
            ]
          },
          "metadata": {},
          "execution_count": 11
        }
      ]
    },
    {
      "cell_type": "code",
      "source": [
        "colors = 'set theory is the mathematical theory of well-determined collections,called sets,\\of objects that are called members,or element.of the set.Pure set theory deals exclusively\\with sets,so the only sets under consideration are those whose members are also sets\\The theory of the hereditarily-finite sets,namely those finite sets whose elements are also finite sets,\\the element of which are also finite,and so on ,is formally equivalent to arithmetic.\\so, the essence of set theory is the study of infinite sets,and\\terefore it can be defined as the mathematics theory of the actual-as opposed to potential-infinite.'\n",
        "colors"
      ],
      "metadata": {
        "colab": {
          "base_uri": "https://localhost:8080/",
          "height": 157
        },
        "id": "VGtF05Sf5k3j",
        "outputId": "83c81de0-7951-4b7a-cf96-95f2cafdcb99"
      },
      "execution_count": 12,
      "outputs": [
        {
          "output_type": "execute_result",
          "data": {
            "text/plain": [
              "'set theory is the mathematical theory of well-determined collections,called sets,\\\\of objects that are called members,or element.of the set.Pure set theory deals exclusively\\\\with sets,so the only sets under consideration are those whose members are also sets\\\\The theory of the hereditarily-finite sets,namely those finite sets whose elements are also finite sets,\\the element of which are also finite,and so on ,is formally equivalent to arithmetic.\\\\so, the essence of set theory is the study of infinite sets,and\\terefore it can be defined as the mathematics theory of the actual-as opposed to potential-infinite.'"
            ],
            "application/vnd.google.colaboratory.intrinsic+json": {
              "type": "string"
            }
          },
          "metadata": {},
          "execution_count": 12
        }
      ]
    },
    {
      "cell_type": "code",
      "source": [
        "a=1\n",
        "b=2\n",
        "c=3\n",
        "a=1;b=2;c=3\n",
        "c"
      ],
      "metadata": {
        "colab": {
          "base_uri": "https://localhost:8080/"
        },
        "id": "r7P_l4Ei8U53",
        "outputId": "7df35fde-c2ce-42dd-daa2-2bdffc9e2003"
      },
      "execution_count": 13,
      "outputs": [
        {
          "output_type": "execute_result",
          "data": {
            "text/plain": [
              "3"
            ]
          },
          "metadata": {},
          "execution_count": 13
        }
      ]
    },
    {
      "cell_type": "code",
      "source": [
        "a=1\n",
        "b=2\n",
        "c=3\n",
        "a,b,c=[1,'a',True],(45,67),{'Name':'vikash','Age':27}\n",
        "a"
      ],
      "metadata": {
        "colab": {
          "base_uri": "https://localhost:8080/"
        },
        "id": "lKUyxgAY8hFy",
        "outputId": "6fe1c411-dc1f-4f03-b44c-fcd6448ebefd"
      },
      "execution_count": 15,
      "outputs": [
        {
          "output_type": "execute_result",
          "data": {
            "text/plain": [
              "[1, 'a', True]"
            ]
          },
          "metadata": {},
          "execution_count": 15
        }
      ]
    },
    {
      "cell_type": "code",
      "source": [
        "b"
      ],
      "metadata": {
        "colab": {
          "base_uri": "https://localhost:8080/"
        },
        "id": "1GL52kbM9Oid",
        "outputId": "edd56daf-decf-4708-a05e-175e8b9b21df"
      },
      "execution_count": 16,
      "outputs": [
        {
          "output_type": "execute_result",
          "data": {
            "text/plain": [
              "(45, 67)"
            ]
          },
          "metadata": {},
          "execution_count": 16
        }
      ]
    },
    {
      "cell_type": "code",
      "source": [
        "c"
      ],
      "metadata": {
        "colab": {
          "base_uri": "https://localhost:8080/"
        },
        "id": "I8k_hLuG9RlO",
        "outputId": "09c8c097-8a89-4fb7-ef9b-645118ae468e"
      },
      "execution_count": 17,
      "outputs": [
        {
          "output_type": "execute_result",
          "data": {
            "text/plain": [
              "{'Name': 'vikash', 'Age': 27}"
            ]
          },
          "metadata": {},
          "execution_count": 17
        }
      ]
    },
    {
      "cell_type": "code",
      "source": [
        "a,b=b,a\n",
        "a"
      ],
      "metadata": {
        "colab": {
          "base_uri": "https://localhost:8080/"
        },
        "id": "WWhF8LQj9Tpl",
        "outputId": "28a3dd5c-f675-474a-da91-7462ed955b20"
      },
      "execution_count": 18,
      "outputs": [
        {
          "output_type": "execute_result",
          "data": {
            "text/plain": [
              "(45, 67)"
            ]
          },
          "metadata": {},
          "execution_count": 18
        }
      ]
    },
    {
      "cell_type": "code",
      "source": [
        "b"
      ],
      "metadata": {
        "colab": {
          "base_uri": "https://localhost:8080/"
        },
        "id": "qcMYsTOO9gAn",
        "outputId": "665bcf6f-5385-41c0-ba1e-541d27294bcd"
      },
      "execution_count": 19,
      "outputs": [
        {
          "output_type": "execute_result",
          "data": {
            "text/plain": [
              "[1, 'a', True]"
            ]
          },
          "metadata": {},
          "execution_count": 19
        }
      ]
    },
    {
      "cell_type": "code",
      "source": [
        "# this is a comment\n",
        "# print('Hello')\n",
        "print('Hello')"
      ],
      "metadata": {
        "colab": {
          "base_uri": "https://localhost:8080/"
        },
        "id": "dGme_rXL9i9Z",
        "outputId": "c9fc05d0-8088-40f5-e420-278363a36beb"
      },
      "execution_count": 20,
      "outputs": [
        {
          "output_type": "stream",
          "name": "stdout",
          "text": [
            "Hello\n"
          ]
        }
      ]
    },
    {
      "cell_type": "code",
      "source": [
        "a=3\n",
        "print(a)"
      ],
      "metadata": {
        "colab": {
          "base_uri": "https://localhost:8080/"
        },
        "id": "UD6PfT0j91B3",
        "outputId": "8baeb97f-e20a-4873-961a-f24977d28196"
      },
      "execution_count": 21,
      "outputs": [
        {
          "output_type": "stream",
          "name": "stdout",
          "text": [
            "3\n"
          ]
        }
      ]
    },
    {
      "cell_type": "code",
      "source": [
        "a=2\n",
        "b=1\n",
        "# if b>a:\n",
        "# a=5\n",
        "# b=5\n",
        "a"
      ],
      "metadata": {
        "colab": {
          "base_uri": "https://localhost:8080/"
        },
        "id": "dcGd10rY-fDN",
        "outputId": "d201bc93-039a-4d0f-fbbe-93c7e8858981"
      },
      "execution_count": 22,
      "outputs": [
        {
          "output_type": "execute_result",
          "data": {
            "text/plain": [
              "2"
            ]
          },
          "metadata": {},
          "execution_count": 22
        }
      ]
    },
    {
      "cell_type": "code",
      "source": [
        "b"
      ],
      "metadata": {
        "colab": {
          "base_uri": "https://localhost:8080/"
        },
        "id": "8E7KXNhp-uc9",
        "outputId": "83725005-1c67-4d70-d03a-b5f7f8cc3c06"
      },
      "execution_count": 23,
      "outputs": [
        {
          "output_type": "execute_result",
          "data": {
            "text/plain": [
              "1"
            ]
          },
          "metadata": {},
          "execution_count": 23
        }
      ]
    },
    {
      "cell_type": "code",
      "source": [
        "i=4\n",
        "if i==2:\n",
        "  print(2)\n",
        "elif i==3:\n",
        "  print(3)\n",
        "else:\n",
        "  print('not 2 and 3')"
      ],
      "metadata": {
        "colab": {
          "base_uri": "https://localhost:8080/"
        },
        "id": "XSsQCyTV-yLv",
        "outputId": "05f74933-123d-4abb-ac67-c042f1d2c16e"
      },
      "execution_count": 26,
      "outputs": [
        {
          "output_type": "stream",
          "name": "stdout",
          "text": [
            "not 2 and 3\n"
          ]
        }
      ]
    },
    {
      "cell_type": "code",
      "source": [
        "x=30 # statement 1-Assignment statement\n",
        "if x==30:\n",
        "  print('x is greater than 10!')\n",
        "  print(f'x is {x}')"
      ],
      "metadata": {
        "colab": {
          "base_uri": "https://localhost:8080/"
        },
        "id": "D6yx2RhiTyka",
        "outputId": "579f8741-7cba-44ed-ddf3-d84f672a34d5"
      },
      "execution_count": 27,
      "outputs": [
        {
          "output_type": "stream",
          "name": "stdout",
          "text": [
            "x is greater than 10!\n",
            "x is 30\n"
          ]
        }
      ]
    },
    {
      "cell_type": "code",
      "source": [
        "x==20"
      ],
      "metadata": {
        "colab": {
          "base_uri": "https://localhost:8080/"
        },
        "id": "Y0pkSVt1URAe",
        "outputId": "fc65dee1-61b2-42cf-db3f-7150bec7b97d"
      },
      "execution_count": 28,
      "outputs": [
        {
          "output_type": "execute_result",
          "data": {
            "text/plain": [
              "False"
            ]
          },
          "metadata": {},
          "execution_count": 28
        }
      ]
    },
    {
      "cell_type": "code",
      "source": [
        "x=False\n",
        "y=True\n",
        "x=False\n",
        "y=True\n",
        "if x:\n",
        "  print('y was true!')\n",
        "else:\n",
        "   print('I will be printed in any case where x is not true')\n",
        ""
      ],
      "metadata": {
        "colab": {
          "base_uri": "https://localhost:8080/"
        },
        "id": "BBS6TVaPUVeW",
        "outputId": "da069fac-982d-4d29-9cec-c3ef6b49aa08"
      },
      "execution_count": 32,
      "outputs": [
        {
          "output_type": "stream",
          "name": "stdout",
          "text": [
            "I will be printed in any case where x is not true\n"
          ]
        }
      ]
    },
    {
      "cell_type": "code",
      "source": [
        "city = 'New Delhi'\n",
        "if city=='New Delhi':\n",
        "  print('Welcome to the Indian Capital')\n",
        "elif city == 'Mumbai':\n",
        "   print('Welcome to the Financial Capital of India!')\n",
        "else:\n",
        "  print('where are you?')\n"
      ],
      "metadata": {
        "colab": {
          "base_uri": "https://localhost:8080/"
        },
        "id": "pnLbtObZViN1",
        "outputId": "3ba9d611-58b5-4cdc-a715-b5677e4af209"
      },
      "execution_count": 42,
      "outputs": [
        {
          "output_type": "stream",
          "name": "stdout",
          "text": [
            "Welcome to the Indian Capital\n"
          ]
        }
      ]
    },
    {
      "cell_type": "code",
      "source": [
        "person = 'Johnny'\n",
        "if person == 'John':\n",
        "    print(f'Welcome {person}!')\n",
        "else:\n",
        "    print(\"Welcome, what's your name?\")"
      ],
      "metadata": {
        "colab": {
          "base_uri": "https://localhost:8080/"
        },
        "id": "Ikanw0MuW7jg",
        "outputId": "57a80197-a6fb-49f4-cc8e-a4509b8b9e90"
      },
      "execution_count": 43,
      "outputs": [
        {
          "output_type": "stream",
          "name": "stdout",
          "text": [
            "Welcome, what's your name?\n"
          ]
        }
      ]
    },
    {
      "cell_type": "code",
      "source": [
        "number1=-2\n",
        "number2=9\n",
        "if number1>0:\n",
        "  if number2<10:\n",
        "    print(number2+number1)\n",
        "number1=-2\n",
        "number2=9\n",
        "if number1>0:\n",
        "  if number2<10:\n",
        "    print(number2+number1)\n",
        "elif number1 < 0:\n",
        "  print(\"Ah,that's a negative number\")\n",
        "else:\n",
        "  print(\"the number is zero!\")\n",
        "  print(\"the number is zero!\")"
      ],
      "metadata": {
        "colab": {
          "base_uri": "https://localhost:8080/"
        },
        "id": "M0ZqaevEX5NZ",
        "outputId": "bacd88f5-8b80-4497-df63-044154e9dec8"
      },
      "execution_count": 50,
      "outputs": [
        {
          "output_type": "stream",
          "name": "stdout",
          "text": [
            "Ah,that's a negative number\n"
          ]
        }
      ]
    },
    {
      "cell_type": "code",
      "source": [
        "# consider the foloowing statement\n",
        "if False:\n",
        "  print(\"whatdo you say?\")\n",
        "else:\n",
        "  print(\"I have nothing to say\")"
      ],
      "metadata": {
        "colab": {
          "base_uri": "https://localhost:8080/"
        },
        "id": "QTmGIVmIamvC",
        "outputId": "83117eb8-0faf-473c-bd77-bf69c3e4b7a9"
      },
      "execution_count": 51,
      "outputs": [
        {
          "output_type": "stream",
          "name": "stdout",
          "text": [
            "I have nothing to say\n"
          ]
        }
      ]
    },
    {
      "cell_type": "code",
      "source": [
        "if [None]:\n",
        "  print(\"Well I had a really bad day!\")\n",
        "else:\n",
        "  print(\"come on you aced your test.\")"
      ],
      "metadata": {
        "colab": {
          "base_uri": "https://localhost:8080/"
        },
        "id": "PIO-5RFHbVW_",
        "outputId": "dd48bcbc-43bd-4454-fe57-a0b823cceae9"
      },
      "execution_count": 52,
      "outputs": [
        {
          "output_type": "stream",
          "name": "stdout",
          "text": [
            "Well I had a really bad day!\n"
          ]
        }
      ]
    },
    {
      "cell_type": "code",
      "source": [
        "if {1:2,3:4}:\n",
        "  print(\"This is True\")\n",
        "else:\n",
        "  print(\"This is false\")"
      ],
      "metadata": {
        "colab": {
          "base_uri": "https://localhost:8080/"
        },
        "id": "X_axN56YbwjD",
        "outputId": "1c439b12-b5cb-4d54-8669-63a32de50f66"
      },
      "execution_count": 53,
      "outputs": [
        {
          "output_type": "stream",
          "name": "stdout",
          "text": [
            "This is True\n"
          ]
        }
      ]
    }
  ]
}