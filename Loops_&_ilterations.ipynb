{
  "nbformat": 4,
  "nbformat_minor": 0,
  "metadata": {
    "colab": {
      "provenance": []
    },
    "kernelspec": {
      "name": "python3",
      "display_name": "Python 3"
    },
    "language_info": {
      "name": "python"
    }
  },
  "cells": [
    {
      "cell_type": "code",
      "execution_count": 1,
      "metadata": {
        "colab": {
          "base_uri": "https://localhost:8080/"
        },
        "id": "nLiu4_Lg2WkP",
        "outputId": "421b5e23-d777-43dc-bf71-4a75953565dd"
      },
      "outputs": [
        {
          "output_type": "stream",
          "name": "stdout",
          "text": [
            "housestark\n",
            "houseArryn\n",
            "houseBaratheon\n",
            "houseTully\n",
            "houseGreyjoy\n",
            "houselannister\n",
            "houseTyrell\n",
            "houseMartell\n",
            "houseTargaryen\n"
          ]
        }
      ],
      "source": [
        "# consider a list of string\n",
        "got_house = ['stark','Arryn','Baratheon','Tully','Greyjoy','lannister','Tyrell','Martell','Targaryen']\n",
        "for house in got_house:\n",
        "    print(f\"house{house}\")\n"
      ]
    },
    {
      "cell_type": "code",
      "source": [
        "got_house"
      ],
      "metadata": {
        "colab": {
          "base_uri": "https://localhost:8080/"
        },
        "id": "5GOiexjK39qw",
        "outputId": "fcb8e8d5-b5c7-4c0d-dea6-f4aa592f5730"
      },
      "execution_count": 2,
      "outputs": [
        {
          "output_type": "execute_result",
          "data": {
            "text/plain": [
              "['stark',\n",
              " 'Arryn',\n",
              " 'Baratheon',\n",
              " 'Tully',\n",
              " 'Greyjoy',\n",
              " 'lannister',\n",
              " 'Tyrell',\n",
              " 'Martell',\n",
              " 'Targaryen']"
            ]
          },
          "metadata": {},
          "execution_count": 2
        }
      ]
    },
    {
      "cell_type": "code",
      "source": [
        "# using enumerate function to loop through the element of a list\n",
        "for number,house in enumerate(got_house):\n",
        "    print(f\" The house no of house {house} is {number}\")"
      ],
      "metadata": {
        "colab": {
          "base_uri": "https://localhost:8080/"
        },
        "id": "i_bxEQp64EeA",
        "outputId": "179b382e-9126-4ab5-efab-d7c0fb43cc42"
      },
      "execution_count": 3,
      "outputs": [
        {
          "output_type": "stream",
          "name": "stdout",
          "text": [
            " The house no of house stark is 0\n",
            " The house no of house Arryn is 1\n",
            " The house no of house Baratheon is 2\n",
            " The house no of house Tully is 3\n",
            " The house no of house Greyjoy is 4\n",
            " The house no of house lannister is 5\n",
            " The house no of house Tyrell is 6\n",
            " The house no of house Martell is 7\n",
            " The house no of house Targaryen is 8\n"
          ]
        }
      ]
    },
    {
      "cell_type": "code",
      "source": [
        "x=1,2\n",
        "x"
      ],
      "metadata": {
        "colab": {
          "base_uri": "https://localhost:8080/"
        },
        "id": "Y_HRhi4S4mpd",
        "outputId": "4feb8bd3-6d23-450a-d2d0-130dcf9eaa33"
      },
      "execution_count": 4,
      "outputs": [
        {
          "output_type": "execute_result",
          "data": {
            "text/plain": [
              "(1, 2)"
            ]
          },
          "metadata": {},
          "execution_count": 4
        }
      ]
    },
    {
      "cell_type": "code",
      "source": [
        "list(enumerate(got_house))"
      ],
      "metadata": {
        "colab": {
          "base_uri": "https://localhost:8080/"
        },
        "id": "_nVR_Qe64slh",
        "outputId": "aba25f69-bb03-4a92-8efd-180695bef423"
      },
      "execution_count": 5,
      "outputs": [
        {
          "output_type": "execute_result",
          "data": {
            "text/plain": [
              "[(0, 'stark'),\n",
              " (1, 'Arryn'),\n",
              " (2, 'Baratheon'),\n",
              " (3, 'Tully'),\n",
              " (4, 'Greyjoy'),\n",
              " (5, 'lannister'),\n",
              " (6, 'Tyrell'),\n",
              " (7, 'Martell'),\n",
              " (8, 'Targaryen')]"
            ]
          },
          "metadata": {},
          "execution_count": 5
        }
      ]
    },
    {
      "cell_type": "code",
      "source": [
        "# the list of numbers\n",
        "list_of_number=[1,2,4,6,11,14,17,20]\n",
        "# the list of numbers\n",
        "list_of_number=[1,2,4,6,11,14,17,20]\n",
        "for number in list_of_number:\n",
        "  squared_number=number**2\n",
        "  print(f\"The square of {number} is {squared_number}\")"
      ],
      "metadata": {
        "colab": {
          "base_uri": "https://localhost:8080/"
        },
        "id": "UIcgZmpI4x-5",
        "outputId": "5393e64d-3e73-4896-e8ae-c89ab297b93e"
      },
      "execution_count": 8,
      "outputs": [
        {
          "output_type": "stream",
          "name": "stdout",
          "text": [
            "The square of 1 is 1\n",
            "The square of 2 is 4\n",
            "The square of 4 is 16\n",
            "The square of 6 is 36\n",
            "The square of 11 is 121\n",
            "The square of 14 is 196\n",
            "The square of 17 is 289\n",
            "The square of 20 is 400\n"
          ]
        }
      ]
    },
    {
      "cell_type": "code",
      "source": [
        "list_of_number"
      ],
      "metadata": {
        "colab": {
          "base_uri": "https://localhost:8080/"
        },
        "id": "-LjKIhyeBQmF",
        "outputId": "26bee1ba-3c22-4da0-bace-266daf5c7c24"
      },
      "execution_count": 10,
      "outputs": [
        {
          "output_type": "execute_result",
          "data": {
            "text/plain": [
              "[1, 2, 4, 6, 11, 14, 17, 20]"
            ]
          },
          "metadata": {},
          "execution_count": 10
        }
      ]
    },
    {
      "cell_type": "code",
      "source": [
        "squared_number = [number]\n",
        "for number in list_of_number:\n",
        "  squared = number**2\n",
        "  squared_number.append(squared)\n",
        "  print(f\"The list of squared numbers is {squared_number}\")"
      ],
      "metadata": {
        "colab": {
          "base_uri": "https://localhost:8080/"
        },
        "id": "1N-NHxnWBgBK",
        "outputId": "76665567-bf71-4ed1-832a-3996f18c3210"
      },
      "execution_count": 11,
      "outputs": [
        {
          "output_type": "stream",
          "name": "stdout",
          "text": [
            "The list of squared numbers is [20, 1]\n",
            "The list of squared numbers is [20, 1, 4]\n",
            "The list of squared numbers is [20, 1, 4, 16]\n",
            "The list of squared numbers is [20, 1, 4, 16, 36]\n",
            "The list of squared numbers is [20, 1, 4, 16, 36, 121]\n",
            "The list of squared numbers is [20, 1, 4, 16, 36, 121, 196]\n",
            "The list of squared numbers is [20, 1, 4, 16, 36, 121, 196, 289]\n",
            "The list of squared numbers is [20, 1, 4, 16, 36, 121, 196, 289, 400]\n"
          ]
        }
      ]
    },
    {
      "cell_type": "code",
      "source": [
        "print(list_of_number)\n",
        "print(squared_number)"
      ],
      "metadata": {
        "colab": {
          "base_uri": "https://localhost:8080/"
        },
        "id": "oX_vf9bdCUKG",
        "outputId": "2a30dc23-c3b4-4d72-e8e8-f7e3d25ad5ec"
      },
      "execution_count": 13,
      "outputs": [
        {
          "output_type": "stream",
          "name": "stdout",
          "text": [
            "[1, 2, 4, 6, 11, 14, 17, 20]\n",
            "[20, 1, 4, 16, 36, 121, 196, 289, 400]\n"
          ]
        }
      ]
    },
    {
      "cell_type": "code",
      "source": [
        "zipped_dict = dict(zip(list_of_number,squared_number))\n",
        "print(zipped_dict)"
      ],
      "metadata": {
        "colab": {
          "base_uri": "https://localhost:8080/"
        },
        "id": "D1FdMF6UCiz4",
        "outputId": "7ca839cf-571b-4fcc-810f-c85261b268a2"
      },
      "execution_count": 14,
      "outputs": [
        {
          "output_type": "stream",
          "name": "stdout",
          "text": [
            "{1: 20, 2: 1, 4: 4, 6: 16, 11: 36, 14: 121, 17: 196, 20: 289}\n"
          ]
        }
      ]
    },
    {
      "cell_type": "code",
      "source": [
        "for number in list_of_number:\n",
        "  if number%2==0:\n",
        "    squared_number = number**2\n",
        "for number in list_of_number:\n",
        "  if number%2==0:\n",
        "    squared_number = number**2\n",
        "    print(f\"The square of {number} is {squared_number}\")\n",
        "  else:\n",
        "    print(f\"I am an odd number. My master prohibits me from printing the squares of odd numbers.Strange but okay!\")"
      ],
      "metadata": {
        "colab": {
          "base_uri": "https://localhost:8080/"
        },
        "id": "N-j8nVJNCraa",
        "outputId": "9eb5bbdd-07a0-49ab-bf6c-cb1317bf8d7d"
      },
      "execution_count": 18,
      "outputs": [
        {
          "output_type": "stream",
          "name": "stdout",
          "text": [
            "I am an odd number. My master prohibits me from printing the squares of odd numbers.Strange but okay!\n",
            "The square of 2 is 4\n",
            "The square of 4 is 16\n",
            "The square of 6 is 36\n",
            "I am an odd number. My master prohibits me from printing the squares of odd numbers.Strange but okay!\n",
            "The square of 14 is 196\n",
            "I am an odd number. My master prohibits me from printing the squares of odd numbers.Strange but okay!\n",
            "The square of 20 is 400\n"
          ]
        }
      ]
    },
    {
      "cell_type": "code",
      "source": [
        "list(range(10))"
      ],
      "metadata": {
        "colab": {
          "base_uri": "https://localhost:8080/"
        },
        "id": "D14eqTbgD-1k",
        "outputId": "96d43156-6ec3-4aa4-ec18-c9d727e7dbd3"
      },
      "execution_count": 19,
      "outputs": [
        {
          "output_type": "execute_result",
          "data": {
            "text/plain": [
              "[0, 1, 2, 3, 4, 5, 6, 7, 8, 9]"
            ]
          },
          "metadata": {},
          "execution_count": 19
        }
      ]
    },
    {
      "cell_type": "code",
      "source": [
        "for number in range(0,10,3):\n",
        "  squared_number = number**2\n",
        "  print(f\"The square of {number} is {squared_number}\")"
      ],
      "metadata": {
        "colab": {
          "base_uri": "https://localhost:8080/"
        },
        "id": "4GUYu9qyED3B",
        "outputId": "e1fefac9-a0a8-421c-b27c-8181140b6190"
      },
      "execution_count": 20,
      "outputs": [
        {
          "output_type": "stream",
          "name": "stdout",
          "text": [
            "The square of 0 is 0\n",
            "The square of 3 is 9\n",
            "The square of 6 is 36\n",
            "The square of 9 is 81\n"
          ]
        }
      ]
    },
    {
      "cell_type": "code",
      "source": [
        "for i in range(2,21,2):\n",
        "  print(i)"
      ],
      "metadata": {
        "colab": {
          "base_uri": "https://localhost:8080/"
        },
        "id": "LzapDwGKESe9",
        "outputId": "8a5db12d-d43c-496d-e17c-ed131df4eed2"
      },
      "execution_count": 21,
      "outputs": [
        {
          "output_type": "stream",
          "name": "stdout",
          "text": [
            "2\n",
            "4\n",
            "6\n",
            "8\n",
            "10\n",
            "12\n",
            "14\n",
            "16\n",
            "18\n",
            "20\n"
          ]
        }
      ]
    },
    {
      "cell_type": "code",
      "source": [
        "print(list_of_number)"
      ],
      "metadata": {
        "colab": {
          "base_uri": "https://localhost:8080/"
        },
        "id": "n8r4ISkbEbkm",
        "outputId": "80e7e7b7-8384-494e-8e9d-1a35841a765b"
      },
      "execution_count": 22,
      "outputs": [
        {
          "output_type": "stream",
          "name": "stdout",
          "text": [
            "[1, 2, 4, 6, 11, 14, 17, 20]\n"
          ]
        }
      ]
    },
    {
      "cell_type": "code",
      "source": [
        "sum_squares=0\n",
        "for number in range(1,11):\n",
        "  sum_squares=0\n",
        "for number in range(1,11):\n",
        "  sum_squares = sum_squares + number\n",
        "  print(sum_squares)\n",
        "print(f\"The sum of the squares of our list of numbers is {sum_squares}\")"
      ],
      "metadata": {
        "colab": {
          "base_uri": "https://localhost:8080/"
        },
        "id": "BSVyqqvqEixR",
        "outputId": "c12226ef-3fdf-4e2b-8bc1-72d2fc05e98b"
      },
      "execution_count": 27,
      "outputs": [
        {
          "output_type": "stream",
          "name": "stdout",
          "text": [
            "1\n",
            "3\n",
            "6\n",
            "10\n",
            "15\n",
            "21\n",
            "28\n",
            "36\n",
            "45\n",
            "55\n",
            "The sum of the squares of our list of numbers is 55\n"
          ]
        }
      ]
    },
    {
      "cell_type": "code",
      "source": [
        "heisenberg_quote = \"I am the one who knocks!\"\n",
        "for char in heisenberg_quote:\n",
        "  print(f\"The character is {char}\")"
      ],
      "metadata": {
        "colab": {
          "base_uri": "https://localhost:8080/"
        },
        "id": "cEfXil_dFjz9",
        "outputId": "1ceec44e-dfab-48d1-d771-5fca1d37ce9b"
      },
      "execution_count": 28,
      "outputs": [
        {
          "output_type": "stream",
          "name": "stdout",
          "text": [
            "The character is I\n",
            "The character is  \n",
            "The character is a\n",
            "The character is m\n",
            "The character is  \n",
            "The character is t\n",
            "The character is h\n",
            "The character is e\n",
            "The character is  \n",
            "The character is o\n",
            "The character is n\n",
            "The character is e\n",
            "The character is  \n",
            "The character is w\n",
            "The character is h\n",
            "The character is o\n",
            "The character is  \n",
            "The character is k\n",
            "The character is n\n",
            "The character is o\n",
            "The character is c\n",
            "The character is k\n",
            "The character is s\n",
            "The character is !\n"
          ]
        }
      ]
    },
    {
      "cell_type": "code",
      "source": [
        "for index,char in enumerate(heisenberg_quote):\n",
        "  print(f\"The index is {index}and the character is {char}\")"
      ],
      "metadata": {
        "colab": {
          "base_uri": "https://localhost:8080/"
        },
        "id": "JgbcPae8GGoN",
        "outputId": "1920ef5e-ebf3-41de-c8e2-5013da39eb22"
      },
      "execution_count": 29,
      "outputs": [
        {
          "output_type": "stream",
          "name": "stdout",
          "text": [
            "The index is 0and the character is I\n",
            "The index is 1and the character is  \n",
            "The index is 2and the character is a\n",
            "The index is 3and the character is m\n",
            "The index is 4and the character is  \n",
            "The index is 5and the character is t\n",
            "The index is 6and the character is h\n",
            "The index is 7and the character is e\n",
            "The index is 8and the character is  \n",
            "The index is 9and the character is o\n",
            "The index is 10and the character is n\n",
            "The index is 11and the character is e\n",
            "The index is 12and the character is  \n",
            "The index is 13and the character is w\n",
            "The index is 14and the character is h\n",
            "The index is 15and the character is o\n",
            "The index is 16and the character is  \n",
            "The index is 17and the character is k\n",
            "The index is 18and the character is n\n",
            "The index is 19and the character is o\n",
            "The index is 20and the character is c\n",
            "The index is 21and the character is k\n",
            "The index is 22and the character is s\n",
            "The index is 23and the character is !\n"
          ]
        }
      ]
    },
    {
      "cell_type": "code",
      "source": [
        "heisenberg_quote = \" It ceases to exist without me. No, you clearly don't know who you're talking to, so let me clue you in. I am not in danger, Skyler. I am the danger.\"\n",
        "words_by_walter = heisenberg_quote.split(\" \")\n",
        "print(words_by_walter)"
      ],
      "metadata": {
        "colab": {
          "base_uri": "https://localhost:8080/"
        },
        "id": "474jaeJQGc4b",
        "outputId": "dfe786fa-fb31-4124-988c-f63732529342"
      },
      "execution_count": 30,
      "outputs": [
        {
          "output_type": "stream",
          "name": "stdout",
          "text": [
            "['', 'It', 'ceases', 'to', 'exist', 'without', 'me.', 'No,', 'you', 'clearly', \"don't\", 'know', 'who', \"you're\", 'talking', 'to,', 'so', 'let', 'me', 'clue', 'you', 'in.', 'I', 'am', 'not', 'in', 'danger,', 'Skyler.', 'I', 'am', 'the', 'danger.']\n"
          ]
        }
      ]
    },
    {
      "cell_type": "code",
      "source": [
        "for word in words_by_walter:\n",
        "  if word in ['I','me']:\n",
        "   print(f\"The word is {word}\")"
      ],
      "metadata": {
        "colab": {
          "base_uri": "https://localhost:8080/"
        },
        "id": "LiNWqQ2jG88c",
        "outputId": "3228d524-3774-4ff1-cd59-afa657c669bb"
      },
      "execution_count": 32,
      "outputs": [
        {
          "output_type": "stream",
          "name": "stdout",
          "text": [
            "The word is me\n",
            "The word is I\n",
            "The word is I\n"
          ]
        }
      ]
    },
    {
      "cell_type": "code",
      "source": [
        "days = ('Monday','Tuesday','Wednesday','Thursday','Friday','Saturday','Sunday')\n",
        "for day in days:\n",
        "  print(f\"Today is {day}\")"
      ],
      "metadata": {
        "colab": {
          "base_uri": "https://localhost:8080/"
        },
        "id": "zK_SNrW0HSYa",
        "outputId": "af3dd757-270f-4736-9712-ca0dbb85162b"
      },
      "execution_count": 33,
      "outputs": [
        {
          "output_type": "stream",
          "name": "stdout",
          "text": [
            "Today is Monday\n",
            "Today is Tuesday\n",
            "Today is Wednesday\n",
            "Today is Thursday\n",
            "Today is Friday\n",
            "Today is Saturday\n",
            "Today is Sunday\n"
          ]
        }
      ]
    },
    {
      "cell_type": "code",
      "source": [
        "country_city_river_list = [('India','New Delhi','Ganga'),('Australia','canberra','Rovers'),('united states','washington Dc','Missouri')]\n",
        "for country,city,river in country_city_river_list:\n",
        "  print(f\"The capital of {country} is {city} and the largest river in {country} is {river}\")"
      ],
      "metadata": {
        "colab": {
          "base_uri": "https://localhost:8080/"
        },
        "id": "MkG1K-1QHkGY",
        "outputId": "07836575-f360-49e0-aefd-00b07898238e"
      },
      "execution_count": 34,
      "outputs": [
        {
          "output_type": "stream",
          "name": "stdout",
          "text": [
            "The capital of India is New Delhi and the largest river in India is Ganga\n",
            "The capital of Australia is canberra and the largest river in Australia is Rovers\n",
            "The capital of united states is washington Dc and the largest river in united states is Missouri\n"
          ]
        }
      ]
    },
    {
      "cell_type": "code",
      "source": [
        "country_city_dict={1:\"India\",2:\"USA\"}\n",
        "for item in country_city_dict:\n",
        "  print(item,country_city_dict[item])"
      ],
      "metadata": {
        "colab": {
          "base_uri": "https://localhost:8080/"
        },
        "id": "Pu_eN6-qIdmc",
        "outputId": "1656d6ca-9392-4ed0-88e7-7382024f50a0"
      },
      "execution_count": 35,
      "outputs": [
        {
          "output_type": "stream",
          "name": "stdout",
          "text": [
            "1 India\n",
            "2 USA\n"
          ]
        }
      ]
    },
    {
      "cell_type": "code",
      "source": [
        "country_city_dict={1:\"India\",2:\"USA\"}\n",
        "for item in country_city_dict:\n",
        "  print(item,country_city_dict[item])"
      ],
      "metadata": {
        "colab": {
          "base_uri": "https://localhost:8080/"
        },
        "id": "Cn4QEuYzeQij",
        "outputId": "36136ada-4ba9-43f0-ec9c-7b3d43d10f22"
      },
      "execution_count": 1,
      "outputs": [
        {
          "output_type": "stream",
          "name": "stdout",
          "text": [
            "1 India\n",
            "2 USA\n"
          ]
        }
      ]
    },
    {
      "cell_type": "code",
      "source": [
        "for country,city in country_city_dict.items():\n",
        "  print(f\"The capital of {country} is {city}\")"
      ],
      "metadata": {
        "colab": {
          "base_uri": "https://localhost:8080/"
        },
        "id": "SC8WDA3wemEs",
        "outputId": "bfc8ad7c-47af-4984-e8c7-12ac2b691296"
      },
      "execution_count": 3,
      "outputs": [
        {
          "output_type": "stream",
          "name": "stdout",
          "text": [
            "The capital of 1 is India\n",
            "The capital of 2 is USA\n"
          ]
        }
      ]
    },
    {
      "cell_type": "code",
      "source": [
        "for elem in {1,2,3}:\n",
        "  print(elem)"
      ],
      "metadata": {
        "colab": {
          "base_uri": "https://localhost:8080/"
        },
        "id": "inrz4LlKfCAI",
        "outputId": "97568663-c1e8-4edc-9366-29e6be92b3c6"
      },
      "execution_count": 4,
      "outputs": [
        {
          "output_type": "stream",
          "name": "stdout",
          "text": [
            "1\n",
            "2\n",
            "3\n"
          ]
        }
      ]
    },
    {
      "cell_type": "code",
      "source": [
        "x = 0\n",
        "while x < 10:\n",
        "  print('x is currently:',x)\n",
        "  print('x is still less than 10,adding 1 to x')\n",
        "  x=x+1\n"
      ],
      "metadata": {
        "colab": {
          "base_uri": "https://localhost:8080/"
        },
        "id": "QK_oEsBlfMOS",
        "outputId": "081b76c5-3bcb-4908-be92-c87bc401f0fe"
      },
      "execution_count": 5,
      "outputs": [
        {
          "output_type": "stream",
          "name": "stdout",
          "text": [
            "x is currently: 0\n",
            "x is still less than 10,adding 1 to x\n",
            "x is currently: 1\n",
            "x is still less than 10,adding 1 to x\n",
            "x is currently: 2\n",
            "x is still less than 10,adding 1 to x\n",
            "x is currently: 3\n",
            "x is still less than 10,adding 1 to x\n",
            "x is currently: 4\n",
            "x is still less than 10,adding 1 to x\n",
            "x is currently: 5\n",
            "x is still less than 10,adding 1 to x\n",
            "x is currently: 6\n",
            "x is still less than 10,adding 1 to x\n",
            "x is currently: 7\n",
            "x is still less than 10,adding 1 to x\n",
            "x is currently: 8\n",
            "x is still less than 10,adding 1 to x\n",
            "x is currently: 9\n",
            "x is still less than 10,adding 1 to x\n"
          ]
        }
      ]
    },
    {
      "cell_type": "code",
      "source": [
        "x = 0\n",
        "while x < 5:\n",
        "  print('x is currently :',x)\n",
        "  print('x is still less than 5,adding 1 to x')\n",
        "  x=x+1\n",
        "else:\n",
        "  print('All done!')"
      ],
      "metadata": {
        "colab": {
          "base_uri": "https://localhost:8080/"
        },
        "id": "O3aZMUf2f4Rv",
        "outputId": "f0b97755-90a0-4eb3-a903-30410ac14613"
      },
      "execution_count": 19,
      "outputs": [
        {
          "output_type": "stream",
          "name": "stdout",
          "text": [
            "x is currently : 0\n",
            "x is still less than 5,adding 1 to x\n",
            "x is currently : 1\n",
            "x is still less than 5,adding 1 to x\n",
            "x is currently : 2\n",
            "x is still less than 5,adding 1 to x\n",
            "x is currently : 3\n",
            "x is still less than 5,adding 1 to x\n",
            "x is currently : 4\n",
            "x is still less than 5,adding 1 to x\n",
            "All done!\n"
          ]
        }
      ]
    },
    {
      "cell_type": "code",
      "source": [],
      "metadata": {
        "id": "N-sjcfwHgef1"
      },
      "execution_count": null,
      "outputs": []
    }
  ]
}