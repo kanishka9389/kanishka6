{
  "nbformat": 4,
  "nbformat_minor": 0,
  "metadata": {
    "colab": {
      "provenance": []
    },
    "kernelspec": {
      "name": "python3",
      "display_name": "Python 3"
    },
    "language_info": {
      "name": "python"
    }
  },
  "cells": [
    {
      "cell_type": "code",
      "execution_count": 1,
      "metadata": {
        "colab": {
          "base_uri": "https://localhost:8080/"
        },
        "id": "AEtFV7zA9-5D",
        "outputId": "9d00325a-08dc-4e03-c3e8-279cd0cec90f"
      },
      "outputs": [
        {
          "output_type": "execute_result",
          "data": {
            "text/plain": [
              "[]"
            ]
          },
          "metadata": {},
          "execution_count": 1
        }
      ],
      "source": [
        "empty_list = []\n",
        "empty_list"
      ]
    },
    {
      "cell_type": "code",
      "source": [
        "another_empty_list = list()\n",
        "another_empty_list"
      ],
      "metadata": {
        "colab": {
          "base_uri": "https://localhost:8080/"
        },
        "id": "-BhIRNkb-eEv",
        "outputId": "02bf11fb-fad6-44bd-892d-a5b8e8944c8d"
      },
      "execution_count": 2,
      "outputs": [
        {
          "output_type": "execute_result",
          "data": {
            "text/plain": [
              "[]"
            ]
          },
          "metadata": {},
          "execution_count": 2
        }
      ]
    },
    {
      "cell_type": "code",
      "source": [
        "another_empty_list.append(2)\n",
        "another_empty_list"
      ],
      "metadata": {
        "colab": {
          "base_uri": "https://localhost:8080/"
        },
        "id": "uhv66kju-jPO",
        "outputId": "0a3d6c2a-7493-471a-9ce6-86c8c2ababa1"
      },
      "execution_count": 3,
      "outputs": [
        {
          "output_type": "execute_result",
          "data": {
            "text/plain": [
              "[2]"
            ]
          },
          "metadata": {},
          "execution_count": 3
        }
      ]
    },
    {
      "cell_type": "code",
      "source": [
        "another_empty_list.append(1)\n",
        "another_empty_list.append(3)\n",
        "another_empty_list"
      ],
      "metadata": {
        "colab": {
          "base_uri": "https://localhost:8080/"
        },
        "id": "NWZ3g9I--s0l",
        "outputId": "0cdb9a89-d9f2-4e57-e448-461f911f51e3"
      },
      "execution_count": 4,
      "outputs": [
        {
          "output_type": "execute_result",
          "data": {
            "text/plain": [
              "[2, 1, 3]"
            ]
          },
          "metadata": {},
          "execution_count": 4
        }
      ]
    },
    {
      "cell_type": "code",
      "source": [
        "another_empty_list.index(3)"
      ],
      "metadata": {
        "colab": {
          "base_uri": "https://localhost:8080/"
        },
        "id": "GmFtuTzs-2pB",
        "outputId": "201b3a1b-db0b-484a-dc1d-7c4d5fb45dc3"
      },
      "execution_count": 5,
      "outputs": [
        {
          "output_type": "execute_result",
          "data": {
            "text/plain": [
              "2"
            ]
          },
          "metadata": {},
          "execution_count": 5
        }
      ]
    },
    {
      "cell_type": "code",
      "source": [
        "the_sixth_sence = 6\n",
        "print(type(the_sixth_sence))"
      ],
      "metadata": {
        "colab": {
          "base_uri": "https://localhost:8080/"
        },
        "id": "Uu7OdSM1_AX4",
        "outputId": "eb095aca-6f94-4986-8bfa-2aaa8d9dba1f"
      },
      "execution_count": 6,
      "outputs": [
        {
          "output_type": "stream",
          "name": "stdout",
          "text": [
            "<class 'int'>\n"
          ]
        }
      ]
    },
    {
      "cell_type": "code",
      "source": [
        "two_and_a_half_men = 2.5\n",
        "print(type(two_and_a_half_men))"
      ],
      "metadata": {
        "colab": {
          "base_uri": "https://localhost:8080/"
        },
        "id": "ijyhmAYK_LBU",
        "outputId": "c5a3206d-c702-4525-f0c2-f3a89eea803e"
      },
      "execution_count": 7,
      "outputs": [
        {
          "output_type": "stream",
          "name": "stdout",
          "text": [
            "<class 'float'>\n"
          ]
        }
      ]
    },
    {
      "cell_type": "code",
      "source": [
        "schindlers_list = list()\n",
        "print(type(schindlers_list))"
      ],
      "metadata": {
        "colab": {
          "base_uri": "https://localhost:8080/"
        },
        "id": "u6TgyXIM_WEe",
        "outputId": "8f26990f-d496-4e8d-9705-f2cd4dda0503"
      },
      "execution_count": 8,
      "outputs": [
        {
          "output_type": "stream",
          "name": "stdout",
          "text": [
            "<class 'list'>\n"
          ]
        }
      ]
    },
    {
      "cell_type": "code",
      "source": [
        "another_list = list()\n",
        "tharoor = {'farrago':'a confused mixture'}\n",
        "print(type(tharoor))"
      ],
      "metadata": {
        "colab": {
          "base_uri": "https://localhost:8080/"
        },
        "id": "oPcmVmvN_fMp",
        "outputId": "7e3d7745-0e89-4776-db70-03723513a60f"
      },
      "execution_count": 10,
      "outputs": [
        {
          "output_type": "stream",
          "name": "stdout",
          "text": [
            "<class 'dict'>\n"
          ]
        }
      ]
    },
    {
      "cell_type": "code",
      "source": [
        "class firstclass:\n",
        "  pass\n",
        "x = firstclass()\n",
        "print(type(x))"
      ],
      "metadata": {
        "colab": {
          "base_uri": "https://localhost:8080/"
        },
        "id": "B9rnQAXI_5Pi",
        "outputId": "8fc35ee4-a70e-42d1-c798-9e72f5ea9c4f"
      },
      "execution_count": 13,
      "outputs": [
        {
          "output_type": "stream",
          "name": "stdout",
          "text": [
            "<class '__main__.firstclass'>\n"
          ]
        }
      ]
    },
    {
      "cell_type": "code",
      "source": [
        "y = firstclass()\n",
        "print(type(y))"
      ],
      "metadata": {
        "colab": {
          "base_uri": "https://localhost:8080/"
        },
        "id": "hRybM69zARIT",
        "outputId": "58b6c753-9c59-4b97-ef24-77816335fe34"
      },
      "execution_count": 14,
      "outputs": [
        {
          "output_type": "stream",
          "name": "stdout",
          "text": [
            "<class '__main__.firstclass'>\n"
          ]
        }
      ]
    },
    {
      "cell_type": "code",
      "source": [
        "from os import name\n",
        "class Dog:\n",
        "  def __init__(self,breed,name):\n",
        "    self.breed_attribute = breed\n",
        "    self.name_attribute = name\n",
        "sam_object = Dog(breed='Lab',name='Sam')\n",
        "frank_object = Dog(breed='Huskie',name='Frank')\n",
        "sam_object.breed_attribute"
      ],
      "metadata": {
        "colab": {
          "base_uri": "https://localhost:8080/",
          "height": 35
        },
        "id": "8iLcmAI8AXk2",
        "outputId": "d919b9f4-f2b7-4347-ef7a-2ae2fa44e2e9"
      },
      "execution_count": 17,
      "outputs": [
        {
          "output_type": "execute_result",
          "data": {
            "text/plain": [
              "'Lab'"
            ],
            "application/vnd.google.colaboratory.intrinsic+json": {
              "type": "string"
            }
          },
          "metadata": {},
          "execution_count": 17
        }
      ]
    },
    {
      "cell_type": "code",
      "source": [
        "class circle:\n",
        "  def __init__(self,radius=1):\n",
        "    self.radius = radius\n",
        "    self.area = radius * radius * 3.14\n",
        "  def setRadius(self,new_radius):\n",
        "    self.radius = new_radius\n",
        "    self.area = new_radius * new_radius * 3.14\n",
        "  def getcircumference(self):\n",
        "    return self.radius * 3.14 * 2\n",
        "c = circle(2)\n",
        "c.area"
      ],
      "metadata": {
        "colab": {
          "base_uri": "https://localhost:8080/"
        },
        "id": "M6ZGx03tBRy8",
        "outputId": "bd41d8b0-2e75-4952-b3a2-06a13f35f359"
      },
      "execution_count": 20,
      "outputs": [
        {
          "output_type": "execute_result",
          "data": {
            "text/plain": [
              "12.56"
            ]
          },
          "metadata": {},
          "execution_count": 20
        }
      ]
    },
    {
      "cell_type": "code",
      "source": [
        "c.setRadius(10)\n",
        "c.getcircumference()"
      ],
      "metadata": {
        "colab": {
          "base_uri": "https://localhost:8080/"
        },
        "id": "wQ4RPQiYB5i1",
        "outputId": "6e09cfa3-0230-4d40-b2de-561661f68aad"
      },
      "execution_count": 21,
      "outputs": [
        {
          "output_type": "execute_result",
          "data": {
            "text/plain": [
              "62.800000000000004"
            ]
          },
          "metadata": {},
          "execution_count": 21
        }
      ]
    },
    {
      "cell_type": "code",
      "source": [
        "print('Radius is:',c.radius)\n",
        "print('Area is:',c.area)\n",
        "print('Circumference is:',c.getcircumference())"
      ],
      "metadata": {
        "colab": {
          "base_uri": "https://localhost:8080/"
        },
        "id": "tGF6698GCFDA",
        "outputId": "d3bc1413-d3ab-460d-bf04-4e07565d4542"
      },
      "execution_count": 22,
      "outputs": [
        {
          "output_type": "stream",
          "name": "stdout",
          "text": [
            "Radius is: 10\n",
            "Area is: 314.0\n",
            "Circumference is: 62.800000000000004\n"
          ]
        }
      ]
    },
    {
      "cell_type": "code",
      "source": [
        "c.setRadius(4)\n",
        "print('Radius is:',c.radius)\n",
        "print('Area is:',c.area)\n",
        "print('Circumference is:',c.getcircumference())"
      ],
      "metadata": {
        "colab": {
          "base_uri": "https://localhost:8080/"
        },
        "id": "sRIy6bbDCSNT",
        "outputId": "c89b02da-7109-416f-aa50-62fbdce7fb15"
      },
      "execution_count": 24,
      "outputs": [
        {
          "output_type": "stream",
          "name": "stdout",
          "text": [
            "Radius is: 4\n",
            "Area is: 50.24\n",
            "Circumference is: 25.12\n"
          ]
        }
      ]
    },
    {
      "cell_type": "code",
      "source": [
        "class Housestark:\n",
        "  def __init__(self,sigil):\n",
        "    self.sigil = sigil\n",
        "  def motto(self):\n",
        "    return \"House stark with sigil \" + self.sigil + \"has the motto'Winter is coming'\"\n",
        "class HouseLannister:\n",
        "  def __init__(self,sigil):\n",
        "    self.sigil = sigil\n",
        "  def motto(self):\n",
        "    return \"House Lannister with sigil \" + self.sigil + \"has the motto'Hear me roar'\"\n",
        "arya = Housestark('direwolf')\n",
        "tyrion = HouseLannister('golden lion')\n",
        "print(arya.motto())"
      ],
      "metadata": {
        "colab": {
          "base_uri": "https://localhost:8080/"
        },
        "id": "vp-SsN3qDDdZ",
        "outputId": "3a2231be-d511-468e-c0c0-fb72968b5ee3"
      },
      "execution_count": 32,
      "outputs": [
        {
          "output_type": "stream",
          "name": "stdout",
          "text": [
            "House stark with sigil direwolfhas the motto'Winter is coming'\n"
          ]
        }
      ]
    },
    {
      "cell_type": "code",
      "source": [
        "print(tyrion.motto())"
      ],
      "metadata": {
        "colab": {
          "base_uri": "https://localhost:8080/"
        },
        "id": "ZMd7w_XBE3x4",
        "outputId": "5c9bb3c3-fadc-47ca-c32c-80388568bc33"
      },
      "execution_count": 33,
      "outputs": [
        {
          "output_type": "stream",
          "name": "stdout",
          "text": [
            "House Lannister with sigil golden lionhas the motto'Hear me roar'\n"
          ]
        }
      ]
    },
    {
      "cell_type": "code",
      "source": [
        "for warrior in [arya,tyrion]:\n",
        "  print(warrior.motto())"
      ],
      "metadata": {
        "colab": {
          "base_uri": "https://localhost:8080/"
        },
        "id": "H-f9rHv7E-ga",
        "outputId": "e93d52e9-ccaa-4560-ed3c-f395aaa067e6"
      },
      "execution_count": 34,
      "outputs": [
        {
          "output_type": "stream",
          "name": "stdout",
          "text": [
            "House stark with sigil direwolfhas the motto'Winter is coming'\n",
            "House Lannister with sigil golden lionhas the motto'Hear me roar'\n"
          ]
        }
      ]
    },
    {
      "cell_type": "code",
      "source": [
        "try:\n",
        "  print(\"Good to go!\")\n",
        "  print('a', fwdfdwafwf)\n",
        "  print('b')\n",
        "except:\n",
        "  print(\"Oops!\")\n",
        "  print('e')\n",
        "  print('f')\n",
        "else:\n",
        "  print(\"No errors encounted!\")\n",
        "  print('c')\n",
        "  print('d')\n"
      ],
      "metadata": {
        "colab": {
          "base_uri": "https://localhost:8080/"
        },
        "id": "odNdJ4nLFKA_",
        "outputId": "bf71c7f5-22eb-495c-ef09-3620722db927"
      },
      "execution_count": 35,
      "outputs": [
        {
          "output_type": "stream",
          "name": "stdout",
          "text": [
            "Good to go!\n",
            "Oops!\n",
            "e\n",
            "f\n"
          ]
        }
      ]
    },
    {
      "cell_type": "code",
      "source": [
        "try:\n",
        "  print(\"Execute try statements\")\n",
        "except:\n",
        "  print(\"Always execute finally code blocks\")"
      ],
      "metadata": {
        "colab": {
          "base_uri": "https://localhost:8080/"
        },
        "id": "CZC7JvFyGR7v",
        "outputId": "395bfc27-8694-42b9-c583-f7ac2c83a3aa"
      },
      "execution_count": 36,
      "outputs": [
        {
          "output_type": "stream",
          "name": "stdout",
          "text": [
            "Execute try statements\n"
          ]
        }
      ]
    },
    {
      "cell_type": "code",
      "source": [
        "a = 1\n",
        "b = 0.2\n",
        "try:\n",
        "  print('abc')\n",
        "except:\n",
        "  print('sddj string is not present')"
      ],
      "metadata": {
        "colab": {
          "base_uri": "https://localhost:8080/"
        },
        "id": "koiXgrQdGo-y",
        "outputId": "27f877f8-d98e-4ec2-ac58-73072d433f7c"
      },
      "execution_count": 37,
      "outputs": [
        {
          "output_type": "stream",
          "name": "stdout",
          "text": [
            "abc\n"
          ]
        }
      ]
    },
    {
      "cell_type": "code",
      "source": [
        "try:\n",
        "    a = 1\n",
        "    print(adefewdwd)\n",
        "    try:\n",
        "      print(type(afggdgdsgg))\n",
        "    except:\n",
        "      print('erroe occured')\n",
        "except Exception as ex:\n",
        "  print('The error is :', ex)\n",
        "  #print(b,type(b))  # Variable 'b' is not defined.  This line will cause an error.  Remove or define 'b' to fix.\n",
        "  print('The error is :', ex)\n",
        "  print(b,type(b))"
      ],
      "metadata": {
        "colab": {
          "base_uri": "https://localhost:8080/"
        },
        "id": "12DiaiX7G9K3",
        "outputId": "660bb4c6-1e8c-4ec2-8711-bbfb601c80f0"
      },
      "execution_count": 50,
      "outputs": [
        {
          "output_type": "stream",
          "name": "stdout",
          "text": [
            "The error is : name 'adefewdwd' is not defined\n",
            "The error is : name 'adefewdwd' is not defined\n",
            "0.2 <class 'float'>\n"
          ]
        }
      ]
    },
    {
      "cell_type": "code",
      "source": [],
      "metadata": {
        "id": "b0OpnI7uIYO0"
      },
      "execution_count": null,
      "outputs": []
    }
  ]
}